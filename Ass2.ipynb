{
 "cells": [
  {
   "cell_type": "markdown",
   "id": "5e84dab2",
   "metadata": {},
   "source": [
    "# **Functions**"
   ]
  },
  {
   "cell_type": "code",
   "execution_count": 78,
   "id": "ee199c5f",
   "metadata": {},
   "outputs": [],
   "source": [
    "import numpy as np\n",
    "import pandas as pd\n",
    "import matplotlib.pyplot as plt\n",
    "import string"
   ]
  },
  {
   "cell_type": "code",
   "execution_count": 4,
   "id": "e8fa101f",
   "metadata": {},
   "outputs": [],
   "source": [
    "def bernoulli_log_pdf(x, mu):\n",
    "    eps = 1e-10 \n",
    "    log_prob = x[:, None, :] * np.log(mu[None, :, :] + eps) + \\\n",
    "               (1 - x[:, None, :]) * np.log(1 - mu[None, :, :] + eps)\n",
    "    return np.sum(log_prob, axis=2)\n",
    "\n",
    "def em_bernoulli_mixture(X, K=4, max_iter=100):\n",
    "    N, D = X.shape\n",
    "    log_likelihoods = []\n",
    "\n",
    "    np.random.seed()\n",
    "    pi = np.full(K, 1/K)\n",
    "    mu = np.random.rand(K, D)\n",
    "\n",
    "    for iteration in range(max_iter):\n",
    "        log_prob = bernoulli_log_pdf(X, mu)\n",
    "        log_prob += np.log(pi + 1e-10)\n",
    "        log_sum = np.logaddexp.reduce(log_prob, axis=1, keepdims=True)\n",
    "        log_resp = log_prob - log_sum\n",
    "        resp = np.exp(log_resp)\n",
    "\n",
    "        Nk = resp.sum(axis=0)\n",
    "        pi = Nk / N\n",
    "        mu = (resp.T @ X) / (Nk[:, None] + 1e-10)\n",
    "\n",
    "        ll = np.sum(log_sum)\n",
    "        log_likelihoods.append(ll)\n",
    "\n",
    "    return pi, mu, log_likelihoods"
   ]
  },
  {
   "cell_type": "code",
   "execution_count": 15,
   "id": "f44c65aa",
   "metadata": {},
   "outputs": [],
   "source": [
    "def gaussian_pdf(x, mean, cov):\n",
    "    D = len(x)\n",
    "    det = np.linalg.det(cov)\n",
    "    inv = np.linalg.inv(cov)\n",
    "    num = np.exp(-0.5 * (x - mean).T @ inv @ (x - mean))\n",
    "    den = np.sqrt((2 * np.pi) ** D * det + 1e-10)\n",
    "    return num / den"
   ]
  },
  {
   "cell_type": "code",
   "execution_count": 16,
   "id": "523dcd03",
   "metadata": {},
   "outputs": [],
   "source": [
    "def run_em_gmm(X, K, max_iter):\n",
    "    N, D = X.shape\n",
    "    np.random.seed()\n",
    "    means = X[np.random.choice(N, K, replace=False)]\n",
    "    covs = np.array([np.eye(D) for _ in range(K)])\n",
    "    pis = np.ones(K) / K\n",
    "\n",
    "    log_likelihoods = []\n",
    "\n",
    "    for it in range(max_iter):\n",
    "        resp = np.zeros((N, K))\n",
    "        for k in range(K):\n",
    "            for i in range(N):\n",
    "                resp[i, k] = pis[k] * gaussian_pdf(X[i], means[k], covs[k])\n",
    "        resp /= resp.sum(axis=1, keepdims=True) + 1e-10\n",
    "\n",
    "        Nk = resp.sum(axis=0)\n",
    "        pis = Nk / N\n",
    "        for k in range(K):\n",
    "            means[k] = (resp[:, k].reshape(-1, 1) * X).sum(axis=0) / Nk[k]\n",
    "            diff = X - means[k]\n",
    "            covs[k] = (resp[:, k].reshape(-1, 1) * diff).T @ diff / Nk[k]\n",
    "            covs[k] += np.eye(D) * 1e-6  # regularization\n",
    "\n",
    "        ll = 0\n",
    "        for i in range(N):\n",
    "            tmp = 0\n",
    "            for k in range(K):\n",
    "                tmp += pis[k] * gaussian_pdf(X[i], means[k], covs[k])\n",
    "            ll += np.log(tmp + 1e-10)\n",
    "        log_likelihoods.append(ll / N)\n",
    "\n",
    "    return np.array(log_likelihoods)"
   ]
  },
  {
   "cell_type": "code",
   "execution_count": 29,
   "id": "97522d4f",
   "metadata": {},
   "outputs": [],
   "source": [
    "def euclidean_distance(row1, row2, feature_cols):\n",
    "    return sum((row1[col] - row2[col]) ** 2 for col in feature_cols) ** 0.5"
   ]
  },
  {
   "cell_type": "code",
   "execution_count": 30,
   "id": "8b3db104",
   "metadata": {},
   "outputs": [],
   "source": [
    "def K_means(df, K, plusplus=False):\n",
    "\n",
    "    errors = []\n",
    "\n",
    "    df_copy = df.copy()\n",
    "    feature_cols = [col for col in df.columns]\n",
    "\n",
    "    if not plusplus:\n",
    "        centroids = df_copy.sample(n=K).copy()\n",
    "        centroids['cluster'] = range(1, K + 1)\n",
    "    else:\n",
    "        pass\n",
    "\n",
    "    while True:\n",
    "        old_cluster_assignments = df_copy['cluster'].copy() if 'cluster' in df_copy else None\n",
    "\n",
    "        # Assign points to nearest centroid\n",
    "        clusters = []\n",
    "        for _, row in df_copy.iterrows():\n",
    "            min_dist = float('inf')\n",
    "            assigned_cluster = None\n",
    "            for _, centroid_row in centroids.iterrows():\n",
    "                dist = euclidean_distance(row, centroid_row, feature_cols)\n",
    "                if dist < min_dist:\n",
    "                    min_dist = dist\n",
    "                    assigned_cluster = centroid_row['cluster']\n",
    "            clusters.append(assigned_cluster)\n",
    "\n",
    "        df_copy['cluster'] = clusters\n",
    "\n",
    "        # Compute new centroids\n",
    "        new_centroids = df_copy.groupby('cluster')[feature_cols].mean().reset_index()\n",
    "\n",
    "        # Compute current iteration error (objective)\n",
    "        error = 0\n",
    "        for _, row in df_copy.iterrows():\n",
    "            centroid_row = new_centroids[new_centroids['cluster'] == row['cluster']].iloc[0]\n",
    "            error += sum((row[col] - centroid_row[col]) ** 2 for col in feature_cols)\n",
    "        errors.append(error)\n",
    "\n",
    "        # Check for convergence\n",
    "        if old_cluster_assignments is not None and df_copy['cluster'].equals(old_cluster_assignments):\n",
    "            break\n",
    "\n",
    "        centroids = new_centroids\n",
    "\n",
    "    return df_copy, centroids, errors"
   ]
  },
  {
   "cell_type": "code",
   "execution_count": 105,
   "id": "405050ae",
   "metadata": {},
   "outputs": [],
   "source": [
    "class LinReg():\n",
    "    def __init__(self):\n",
    "        self.w = None\n",
    "        self.w_history = []\n",
    "        self.cost = None\n",
    "\n",
    "    def Fit(self, Xo, Y, method=None, regularize=None, alpha=0.001, max_iter=10000, lambda_=1, capture_cost=False, tol=1e-6, batch_size=100, epoch=20):\n",
    "        X = Xo.copy()\n",
    "        X.insert(0, \"bias\", 1)\n",
    "        X = X.to_numpy()\n",
    "        Y = Y.to_numpy().reshape(-1, 1)\n",
    "        m, n = X.shape\n",
    "\n",
    "        self.w = np.zeros((n, 1))\n",
    "        self.w_history = []\n",
    "\n",
    "        rng = np.random.default_rng()\n",
    "\n",
    "        def List_mean(a):\n",
    "            return sum(a) / len(a)\n",
    "\n",
    "        if method == 'Stoc_GD':\n",
    "            for _ in range(max_iter):\n",
    "                i = rng.integers(0, m)\n",
    "                Xi = X[i:i+1]\n",
    "                Yi = Y[i:i+1]\n",
    "\n",
    "                grad = Xi.T @ (Xi @ self.w - Yi)\n",
    "\n",
    "                if regularize == \"Ridge\":\n",
    "                    reg_term = np.zeros_like(self.w)\n",
    "                    reg_term[1:] = (lambda_ / m) * self.w[1:]\n",
    "                    grad += reg_term\n",
    "\n",
    "                self.w -= alpha * grad\n",
    "\n",
    "                if capture_cost:\n",
    "                    full_pred = X @ self.w\n",
    "                    self.cost = np.sum((Y - full_pred) ** 2)\n",
    "                    self.w_history.append(self.w.copy())\n",
    "\n",
    "                if len(self.w_history) > 1 and np.linalg.norm(self.w_history[-1] - self.w_history[-2]) < tol:\n",
    "                    break\n",
    "\n",
    "            return (self.w, self.w_history) if capture_cost else self.w\n",
    "\n",
    "        elif method == 'MiniBatch_GD':\n",
    "            for epoch_idx in range(epoch):\n",
    "                indices = rng.permutation(m)\n",
    "                X_shuffled = X[indices]\n",
    "                Y_shuffled = Y[indices]\n",
    "\n",
    "                for start in range(0, m, batch_size):\n",
    "                    end = start + batch_size\n",
    "                    Xi = X_shuffled[start:end]\n",
    "                    Yi = Y_shuffled[start:end]\n",
    "\n",
    "                    grad = Xi.T @ (Xi @ self.w - Yi) / Xi.shape[0]\n",
    "\n",
    "                    if regularize == \"Ridge\":\n",
    "                        reg_term = np.zeros_like(self.w)\n",
    "                        reg_term[1:] = (lambda_ / m) * self.w[1:]\n",
    "                        grad += reg_term\n",
    "\n",
    "                    self.w -= alpha * grad\n",
    "\n",
    "                    if capture_cost:\n",
    "                        full_pred = X @ self.w\n",
    "                        self.cost = np.sum((Y - full_pred) ** 2)\n",
    "                        self.w_history.append(self.w.copy())\n",
    "\n",
    "                    if len(self.w_history) > 1 and np.linalg.norm(self.w_history[-1] - self.w_history[-2]) < tol:\n",
    "                        break\n",
    "\n",
    "            return (self.w, self.w_history) if capture_cost else self.w\n",
    "\n",
    "        elif method == 'Batch_GD':\n",
    "            for epoch_idx in range(epoch):\n",
    "                grad = (X.T @ (X @ self.w - Y)) / m\n",
    "\n",
    "                if regularize == \"Ridge\":\n",
    "                    reg_term = np.zeros_like(self.w)\n",
    "                    reg_term[1:] = (lambda_ / m) * self.w[1:]\n",
    "                    grad += reg_term\n",
    "\n",
    "                self.w -= alpha * grad\n",
    "\n",
    "                if capture_cost:\n",
    "                    full_pred = X @ self.w\n",
    "                    self.cost = np.sum((Y - full_pred) ** 2)\n",
    "                    self.w_history.append(self.w.copy())\n",
    "\n",
    "                if len(self.w_history) > 1 and np.linalg.norm(self.w_history[-1] - self.w_history[-2]) < tol:\n",
    "                    break\n",
    "\n",
    "            return (self.w, self.w_history) if capture_cost else self.w\n",
    "\n",
    "    \n",
    "        else:\n",
    "            tra = X.T\n",
    "            try:\n",
    "                self.w = np.linalg.inv(tra @ X) @ tra @ Y\n",
    "            except np.linalg.LinAlgError:\n",
    "                self.w = np.linalg.pinv(tra @ X) @ tra @ Y\n",
    "            return self.w\n",
    "\n",
    "    def Test(self, X_test):\n",
    "        if self.w is None:\n",
    "            raise Exception(\"Training Not yet Done\")\n",
    "        X_test = X_test.copy()\n",
    "        X_test.insert(0, \"bias\", 1)\n",
    "        X_test = X_test.to_numpy()\n",
    "        y_pred = X_test @ self.w\n",
    "        return y_pred\n",
    "\n",
    "    def Eval(self, Y_Pred, Y_test):\n",
    "        Y_Pred = np.array(Y_Pred).reshape(-1)\n",
    "        Y_test = np.array(Y_test).reshape(-1)\n",
    "        y_mean = np.mean(Y_test)\n",
    "        ss_res = np.sum((Y_test - Y_Pred) ** 2)\n",
    "        ss_tot = np.sum((Y_test - y_mean) ** 2)\n",
    "        R = 1 - (ss_res / ss_tot)\n",
    "        return R\n"
   ]
  },
  {
   "cell_type": "code",
   "execution_count": 106,
   "id": "af58c50f",
   "metadata": {},
   "outputs": [],
   "source": [
    "def ridge_gd(X, y, alpha=0.001, lambda_=0.1, epochs=10000):\n",
    "    N, d = X.shape\n",
    "    w = np.zeros((d,1))\n",
    "    for _ in range(epochs):\n",
    "        y_pred = X @ w\n",
    "        grad = (1/N) * (X.T @ (y_pred - y)) + lambda_ * w\n",
    "        w -= alpha * grad\n",
    "    return w\n",
    "\n",
    "def cross_validate(X, y, lambdas, k=5, alpha=0.001, epochs=10000):\n",
    "    N = X.shape[0]\n",
    "    fold_size = N // k\n",
    "    errors = []\n",
    "\n",
    "    for lambda_ in lambdas:\n",
    "        fold_errors = []\n",
    "        for i in range(k):\n",
    "            start, end = i*fold_size, (i+1)*fold_size\n",
    "            X_val, y_val = X[start:end], y[start:end]\n",
    "            X_train = np.vstack((X[:start], X[end:]))\n",
    "            y_train = np.vstack((y[:start], y[end:]))\n",
    "\n",
    "            w = ridge_gd(X_train, y_train, alpha=alpha, lambda_=lambda_, epochs=epochs)\n",
    "            y_pred = X_val @ w\n",
    "            fold_errors.append(mse(y_val, y_pred))\n",
    "        errors.append(np.mean(fold_errors))\n",
    "    return errors"
   ]
  },
  {
   "cell_type": "code",
   "execution_count": 109,
   "id": "5003d0eb",
   "metadata": {},
   "outputs": [],
   "source": [
    "def mse(y_true, y_pred):\n",
    "    y_true = np.asarray(y_true).reshape(-1)\n",
    "    y_pred = np.asarray(y_pred).reshape(-1)\n",
    "    return np.mean((y_true - y_pred) ** 2)\n",
    "\n",
    "\n",
    "def cross_validate_linreg(X_train_df, y_train_df, lambdas, k=5, alpha=0.001, max_iter=10000):\n",
    "    N = len(X_train_df)\n",
    "    fold_size = N // k\n",
    "    errors = []\n",
    "\n",
    "    for lambda_ in lambdas:\n",
    "        fold_errors = []\n",
    "        for i in range(k):\n",
    "            start, end = i * fold_size, (i + 1) * fold_size\n",
    "\n",
    "            X_val = X_train_df.iloc[start:end]\n",
    "            y_val = y_train_df.iloc[start:end]\n",
    "            X_tr = X_train_df.drop(X_train_df.index[start:end])\n",
    "            y_tr = y_train_df.drop(y_train_df.index[start:end])\n",
    "\n",
    "            model = LinReg()\n",
    "            model.Fit(X_tr, y_tr, method='Batch_GD', regularize='Ridge', alpha=alpha,\n",
    "                      max_iter=max_iter, lambda_=lambda_)\n",
    "            y_pred = model.Test(X_val).reshape(-1)\n",
    "            fold_errors.append(mse(y_val, y_pred))\n",
    "        errors.append(np.mean(fold_errors))\n",
    "\n",
    "    return errors\n"
   ]
  },
  {
   "cell_type": "markdown",
   "id": "69e6c15b",
   "metadata": {},
   "source": [
    "# Import"
   ]
  },
  {
   "cell_type": "code",
   "execution_count": 25,
   "id": "33fec3c7",
   "metadata": {},
   "outputs": [],
   "source": [
    "from aquarel import load_theme\n",
    "import matplotlib.style as mplstyle\n",
    "mplstyle.core.USER_LIBRARY_PATHS.append('/home/kb/anaconda3/envs/myenv/lib/python3.13/site-packages/aquarel/styles')"
   ]
  },
  {
   "cell_type": "code",
   "execution_count": 79,
   "id": "3ad2fa00",
   "metadata": {},
   "outputs": [],
   "source": [
    "df1 = pd.read_csv(\"A2Q1.csv\", header=None)\n",
    "df2_train = pd.read_csv(\"A2Q2test.csv\", header=None)\n",
    "df2_test = pd.read_csv(\"A2Q2train.csv\", header=None)"
   ]
  },
  {
   "cell_type": "code",
   "execution_count": null,
   "id": "82e95140",
   "metadata": {},
   "outputs": [],
   "source": [
    "df2 = df2_train"
   ]
  },
  {
   "cell_type": "code",
   "execution_count": 5,
   "id": "02290e01",
   "metadata": {},
   "outputs": [
    {
     "data": {
      "text/html": [
       "<div>\n",
       "<style scoped>\n",
       "    .dataframe tbody tr th:only-of-type {\n",
       "        vertical-align: middle;\n",
       "    }\n",
       "\n",
       "    .dataframe tbody tr th {\n",
       "        vertical-align: top;\n",
       "    }\n",
       "\n",
       "    .dataframe thead th {\n",
       "        text-align: right;\n",
       "    }\n",
       "</style>\n",
       "<table border=\"1\" class=\"dataframe\">\n",
       "  <thead>\n",
       "    <tr style=\"text-align: right;\">\n",
       "      <th></th>\n",
       "      <th>0</th>\n",
       "      <th>1</th>\n",
       "      <th>2</th>\n",
       "      <th>3</th>\n",
       "      <th>4</th>\n",
       "      <th>5</th>\n",
       "      <th>6</th>\n",
       "      <th>7</th>\n",
       "      <th>8</th>\n",
       "      <th>9</th>\n",
       "      <th>...</th>\n",
       "      <th>40</th>\n",
       "      <th>41</th>\n",
       "      <th>42</th>\n",
       "      <th>43</th>\n",
       "      <th>44</th>\n",
       "      <th>45</th>\n",
       "      <th>46</th>\n",
       "      <th>47</th>\n",
       "      <th>48</th>\n",
       "      <th>49</th>\n",
       "    </tr>\n",
       "  </thead>\n",
       "  <tbody>\n",
       "    <tr>\n",
       "      <th>0</th>\n",
       "      <td>0</td>\n",
       "      <td>0</td>\n",
       "      <td>0</td>\n",
       "      <td>0</td>\n",
       "      <td>0</td>\n",
       "      <td>0</td>\n",
       "      <td>0</td>\n",
       "      <td>0</td>\n",
       "      <td>0</td>\n",
       "      <td>0</td>\n",
       "      <td>...</td>\n",
       "      <td>0</td>\n",
       "      <td>0</td>\n",
       "      <td>0</td>\n",
       "      <td>0</td>\n",
       "      <td>0</td>\n",
       "      <td>0</td>\n",
       "      <td>0</td>\n",
       "      <td>0</td>\n",
       "      <td>0</td>\n",
       "      <td>0</td>\n",
       "    </tr>\n",
       "    <tr>\n",
       "      <th>1</th>\n",
       "      <td>0</td>\n",
       "      <td>0</td>\n",
       "      <td>0</td>\n",
       "      <td>0</td>\n",
       "      <td>1</td>\n",
       "      <td>0</td>\n",
       "      <td>0</td>\n",
       "      <td>0</td>\n",
       "      <td>0</td>\n",
       "      <td>0</td>\n",
       "      <td>...</td>\n",
       "      <td>0</td>\n",
       "      <td>0</td>\n",
       "      <td>0</td>\n",
       "      <td>0</td>\n",
       "      <td>0</td>\n",
       "      <td>0</td>\n",
       "      <td>0</td>\n",
       "      <td>0</td>\n",
       "      <td>0</td>\n",
       "      <td>0</td>\n",
       "    </tr>\n",
       "    <tr>\n",
       "      <th>2</th>\n",
       "      <td>0</td>\n",
       "      <td>0</td>\n",
       "      <td>0</td>\n",
       "      <td>0</td>\n",
       "      <td>0</td>\n",
       "      <td>1</td>\n",
       "      <td>0</td>\n",
       "      <td>0</td>\n",
       "      <td>1</td>\n",
       "      <td>0</td>\n",
       "      <td>...</td>\n",
       "      <td>0</td>\n",
       "      <td>0</td>\n",
       "      <td>0</td>\n",
       "      <td>0</td>\n",
       "      <td>0</td>\n",
       "      <td>1</td>\n",
       "      <td>0</td>\n",
       "      <td>0</td>\n",
       "      <td>0</td>\n",
       "      <td>0</td>\n",
       "    </tr>\n",
       "    <tr>\n",
       "      <th>3</th>\n",
       "      <td>0</td>\n",
       "      <td>0</td>\n",
       "      <td>0</td>\n",
       "      <td>0</td>\n",
       "      <td>0</td>\n",
       "      <td>0</td>\n",
       "      <td>0</td>\n",
       "      <td>0</td>\n",
       "      <td>1</td>\n",
       "      <td>0</td>\n",
       "      <td>...</td>\n",
       "      <td>0</td>\n",
       "      <td>0</td>\n",
       "      <td>0</td>\n",
       "      <td>0</td>\n",
       "      <td>0</td>\n",
       "      <td>0</td>\n",
       "      <td>0</td>\n",
       "      <td>1</td>\n",
       "      <td>0</td>\n",
       "      <td>0</td>\n",
       "    </tr>\n",
       "    <tr>\n",
       "      <th>4</th>\n",
       "      <td>0</td>\n",
       "      <td>0</td>\n",
       "      <td>0</td>\n",
       "      <td>0</td>\n",
       "      <td>0</td>\n",
       "      <td>0</td>\n",
       "      <td>0</td>\n",
       "      <td>1</td>\n",
       "      <td>0</td>\n",
       "      <td>0</td>\n",
       "      <td>...</td>\n",
       "      <td>0</td>\n",
       "      <td>0</td>\n",
       "      <td>0</td>\n",
       "      <td>0</td>\n",
       "      <td>0</td>\n",
       "      <td>0</td>\n",
       "      <td>0</td>\n",
       "      <td>0</td>\n",
       "      <td>0</td>\n",
       "      <td>0</td>\n",
       "    </tr>\n",
       "  </tbody>\n",
       "</table>\n",
       "<p>5 rows × 50 columns</p>\n",
       "</div>"
      ],
      "text/plain": [
       "   0   1   2   3   4   5   6   7   8   9   ...  40  41  42  43  44  45  46  \\\n",
       "0   0   0   0   0   0   0   0   0   0   0  ...   0   0   0   0   0   0   0   \n",
       "1   0   0   0   0   1   0   0   0   0   0  ...   0   0   0   0   0   0   0   \n",
       "2   0   0   0   0   0   1   0   0   1   0  ...   0   0   0   0   0   1   0   \n",
       "3   0   0   0   0   0   0   0   0   1   0  ...   0   0   0   0   0   0   0   \n",
       "4   0   0   0   0   0   0   0   1   0   0  ...   0   0   0   0   0   0   0   \n",
       "\n",
       "   47  48  49  \n",
       "0   0   0   0  \n",
       "1   0   0   0  \n",
       "2   0   0   0  \n",
       "3   1   0   0  \n",
       "4   0   0   0  \n",
       "\n",
       "[5 rows x 50 columns]"
      ]
     },
     "execution_count": 5,
     "metadata": {},
     "output_type": "execute_result"
    }
   ],
   "source": [
    "df1.head()"
   ]
  },
  {
   "cell_type": "code",
   "execution_count": 6,
   "id": "1bc5e9b7",
   "metadata": {},
   "outputs": [
    {
     "data": {
      "text/plain": [
       "(400, 50)"
      ]
     },
     "execution_count": 6,
     "metadata": {},
     "output_type": "execute_result"
    }
   ],
   "source": [
    "df1.shape"
   ]
  },
  {
   "cell_type": "code",
   "execution_count": 3,
   "id": "c47efa78",
   "metadata": {},
   "outputs": [
    {
     "data": {
      "text/html": [
       "<div>\n",
       "<style scoped>\n",
       "    .dataframe tbody tr th:only-of-type {\n",
       "        vertical-align: middle;\n",
       "    }\n",
       "\n",
       "    .dataframe tbody tr th {\n",
       "        vertical-align: top;\n",
       "    }\n",
       "\n",
       "    .dataframe thead th {\n",
       "        text-align: right;\n",
       "    }\n",
       "</style>\n",
       "<table border=\"1\" class=\"dataframe\">\n",
       "  <thead>\n",
       "    <tr style=\"text-align: right;\">\n",
       "      <th></th>\n",
       "      <th>0</th>\n",
       "      <th>1</th>\n",
       "      <th>2</th>\n",
       "      <th>3</th>\n",
       "      <th>4</th>\n",
       "      <th>5</th>\n",
       "      <th>6</th>\n",
       "      <th>7</th>\n",
       "      <th>8</th>\n",
       "      <th>9</th>\n",
       "      <th>...</th>\n",
       "      <th>91</th>\n",
       "      <th>92</th>\n",
       "      <th>93</th>\n",
       "      <th>94</th>\n",
       "      <th>95</th>\n",
       "      <th>96</th>\n",
       "      <th>97</th>\n",
       "      <th>98</th>\n",
       "      <th>99</th>\n",
       "      <th>100</th>\n",
       "    </tr>\n",
       "  </thead>\n",
       "  <tbody>\n",
       "    <tr>\n",
       "      <th>0</th>\n",
       "      <td>0.21302</td>\n",
       "      <td>0.446210</td>\n",
       "      <td>0.51432</td>\n",
       "      <td>0.219750</td>\n",
       "      <td>0.49544</td>\n",
       "      <td>0.46367</td>\n",
       "      <td>0.26007</td>\n",
       "      <td>0.28137</td>\n",
       "      <td>0.983820</td>\n",
       "      <td>0.00777</td>\n",
       "      <td>...</td>\n",
       "      <td>0.92910</td>\n",
       "      <td>0.28669</td>\n",
       "      <td>0.45841</td>\n",
       "      <td>0.788740</td>\n",
       "      <td>0.041794</td>\n",
       "      <td>0.58736</td>\n",
       "      <td>0.90491</td>\n",
       "      <td>0.91718</td>\n",
       "      <td>0.68321</td>\n",
       "      <td>2.0121</td>\n",
       "    </tr>\n",
       "    <tr>\n",
       "      <th>1</th>\n",
       "      <td>0.32563</td>\n",
       "      <td>0.703990</td>\n",
       "      <td>0.31970</td>\n",
       "      <td>0.045240</td>\n",
       "      <td>0.86968</td>\n",
       "      <td>0.13136</td>\n",
       "      <td>0.47664</td>\n",
       "      <td>0.26632</td>\n",
       "      <td>0.334520</td>\n",
       "      <td>0.81200</td>\n",
       "      <td>...</td>\n",
       "      <td>0.51868</td>\n",
       "      <td>0.25546</td>\n",
       "      <td>0.29498</td>\n",
       "      <td>0.008869</td>\n",
       "      <td>0.169970</td>\n",
       "      <td>0.92325</td>\n",
       "      <td>0.42134</td>\n",
       "      <td>0.90906</td>\n",
       "      <td>0.61539</td>\n",
       "      <td>1.8164</td>\n",
       "    </tr>\n",
       "    <tr>\n",
       "      <th>2</th>\n",
       "      <td>0.49539</td>\n",
       "      <td>0.623570</td>\n",
       "      <td>0.58121</td>\n",
       "      <td>0.879160</td>\n",
       "      <td>0.93096</td>\n",
       "      <td>0.20304</td>\n",
       "      <td>0.35752</td>\n",
       "      <td>0.31232</td>\n",
       "      <td>0.066225</td>\n",
       "      <td>0.46389</td>\n",
       "      <td>...</td>\n",
       "      <td>0.85782</td>\n",
       "      <td>0.50530</td>\n",
       "      <td>0.32361</td>\n",
       "      <td>0.693090</td>\n",
       "      <td>0.690430</td>\n",
       "      <td>0.01604</td>\n",
       "      <td>0.46741</td>\n",
       "      <td>0.67303</td>\n",
       "      <td>0.60459</td>\n",
       "      <td>1.6435</td>\n",
       "    </tr>\n",
       "    <tr>\n",
       "      <th>3</th>\n",
       "      <td>0.88875</td>\n",
       "      <td>0.013187</td>\n",
       "      <td>0.87982</td>\n",
       "      <td>0.858160</td>\n",
       "      <td>0.79392</td>\n",
       "      <td>0.79239</td>\n",
       "      <td>0.76522</td>\n",
       "      <td>0.85145</td>\n",
       "      <td>0.233610</td>\n",
       "      <td>0.57924</td>\n",
       "      <td>...</td>\n",
       "      <td>0.25535</td>\n",
       "      <td>0.38341</td>\n",
       "      <td>0.55130</td>\n",
       "      <td>0.727730</td>\n",
       "      <td>0.676890</td>\n",
       "      <td>0.84605</td>\n",
       "      <td>0.61116</td>\n",
       "      <td>0.58514</td>\n",
       "      <td>0.41724</td>\n",
       "      <td>2.7451</td>\n",
       "    </tr>\n",
       "    <tr>\n",
       "      <th>4</th>\n",
       "      <td>0.15178</td>\n",
       "      <td>0.540760</td>\n",
       "      <td>0.26896</td>\n",
       "      <td>0.006752</td>\n",
       "      <td>0.10102</td>\n",
       "      <td>0.34208</td>\n",
       "      <td>0.86855</td>\n",
       "      <td>0.32698</td>\n",
       "      <td>0.285460</td>\n",
       "      <td>0.80503</td>\n",
       "      <td>...</td>\n",
       "      <td>0.54955</td>\n",
       "      <td>0.12932</td>\n",
       "      <td>0.94848</td>\n",
       "      <td>0.326100</td>\n",
       "      <td>0.268010</td>\n",
       "      <td>0.27125</td>\n",
       "      <td>0.53535</td>\n",
       "      <td>0.91872</td>\n",
       "      <td>0.16801</td>\n",
       "      <td>1.8932</td>\n",
       "    </tr>\n",
       "  </tbody>\n",
       "</table>\n",
       "<p>5 rows × 101 columns</p>\n",
       "</div>"
      ],
      "text/plain": [
       "       0         1        2         3        4        5        6        7    \\\n",
       "0  0.21302  0.446210  0.51432  0.219750  0.49544  0.46367  0.26007  0.28137   \n",
       "1  0.32563  0.703990  0.31970  0.045240  0.86968  0.13136  0.47664  0.26632   \n",
       "2  0.49539  0.623570  0.58121  0.879160  0.93096  0.20304  0.35752  0.31232   \n",
       "3  0.88875  0.013187  0.87982  0.858160  0.79392  0.79239  0.76522  0.85145   \n",
       "4  0.15178  0.540760  0.26896  0.006752  0.10102  0.34208  0.86855  0.32698   \n",
       "\n",
       "        8        9    ...      91       92       93        94        95   \\\n",
       "0  0.983820  0.00777  ...  0.92910  0.28669  0.45841  0.788740  0.041794   \n",
       "1  0.334520  0.81200  ...  0.51868  0.25546  0.29498  0.008869  0.169970   \n",
       "2  0.066225  0.46389  ...  0.85782  0.50530  0.32361  0.693090  0.690430   \n",
       "3  0.233610  0.57924  ...  0.25535  0.38341  0.55130  0.727730  0.676890   \n",
       "4  0.285460  0.80503  ...  0.54955  0.12932  0.94848  0.326100  0.268010   \n",
       "\n",
       "       96       97       98       99      100  \n",
       "0  0.58736  0.90491  0.91718  0.68321  2.0121  \n",
       "1  0.92325  0.42134  0.90906  0.61539  1.8164  \n",
       "2  0.01604  0.46741  0.67303  0.60459  1.6435  \n",
       "3  0.84605  0.61116  0.58514  0.41724  2.7451  \n",
       "4  0.27125  0.53535  0.91872  0.16801  1.8932  \n",
       "\n",
       "[5 rows x 101 columns]"
      ]
     },
     "execution_count": 3,
     "metadata": {},
     "output_type": "execute_result"
    }
   ],
   "source": [
    "df2.head()"
   ]
  },
  {
   "cell_type": "code",
   "execution_count": null,
   "id": "ffd541ae",
   "metadata": {},
   "outputs": [
    {
     "data": {
      "text/html": [
       "<div>\n",
       "<style scoped>\n",
       "    .dataframe tbody tr th:only-of-type {\n",
       "        vertical-align: middle;\n",
       "    }\n",
       "\n",
       "    .dataframe tbody tr th {\n",
       "        vertical-align: top;\n",
       "    }\n",
       "\n",
       "    .dataframe thead th {\n",
       "        text-align: right;\n",
       "    }\n",
       "</style>\n",
       "<table border=\"1\" class=\"dataframe\">\n",
       "  <thead>\n",
       "    <tr style=\"text-align: right;\">\n",
       "      <th></th>\n",
       "      <th>0</th>\n",
       "      <th>1</th>\n",
       "      <th>2</th>\n",
       "      <th>3</th>\n",
       "      <th>4</th>\n",
       "      <th>5</th>\n",
       "      <th>6</th>\n",
       "      <th>7</th>\n",
       "      <th>8</th>\n",
       "      <th>9</th>\n",
       "      <th>...</th>\n",
       "      <th>91</th>\n",
       "      <th>92</th>\n",
       "      <th>93</th>\n",
       "      <th>94</th>\n",
       "      <th>95</th>\n",
       "      <th>96</th>\n",
       "      <th>97</th>\n",
       "      <th>98</th>\n",
       "      <th>99</th>\n",
       "      <th>100</th>\n",
       "    </tr>\n",
       "  </thead>\n",
       "  <tbody>\n",
       "    <tr>\n",
       "      <th>0</th>\n",
       "      <td>0.58351</td>\n",
       "      <td>0.37939</td>\n",
       "      <td>0.83975</td>\n",
       "      <td>0.086861</td>\n",
       "      <td>0.61192</td>\n",
       "      <td>0.39203</td>\n",
       "      <td>0.189640</td>\n",
       "      <td>0.585090</td>\n",
       "      <td>0.89494</td>\n",
       "      <td>0.393850</td>\n",
       "      <td>...</td>\n",
       "      <td>0.51706</td>\n",
       "      <td>0.20535</td>\n",
       "      <td>0.829990</td>\n",
       "      <td>0.24995</td>\n",
       "      <td>0.31980</td>\n",
       "      <td>0.19674</td>\n",
       "      <td>0.958550</td>\n",
       "      <td>0.84948</td>\n",
       "      <td>0.92369</td>\n",
       "      <td>1.9741</td>\n",
       "    </tr>\n",
       "    <tr>\n",
       "      <th>1</th>\n",
       "      <td>0.86622</td>\n",
       "      <td>0.45135</td>\n",
       "      <td>0.93479</td>\n",
       "      <td>0.235810</td>\n",
       "      <td>0.50488</td>\n",
       "      <td>0.49742</td>\n",
       "      <td>0.117220</td>\n",
       "      <td>0.574880</td>\n",
       "      <td>0.71051</td>\n",
       "      <td>0.336890</td>\n",
       "      <td>...</td>\n",
       "      <td>0.27412</td>\n",
       "      <td>0.46065</td>\n",
       "      <td>0.655440</td>\n",
       "      <td>0.56656</td>\n",
       "      <td>0.49062</td>\n",
       "      <td>0.19920</td>\n",
       "      <td>0.320680</td>\n",
       "      <td>0.41419</td>\n",
       "      <td>0.83023</td>\n",
       "      <td>2.3354</td>\n",
       "    </tr>\n",
       "    <tr>\n",
       "      <th>2</th>\n",
       "      <td>0.39142</td>\n",
       "      <td>0.91995</td>\n",
       "      <td>0.13873</td>\n",
       "      <td>0.991810</td>\n",
       "      <td>0.54367</td>\n",
       "      <td>0.98449</td>\n",
       "      <td>0.340260</td>\n",
       "      <td>0.206470</td>\n",
       "      <td>0.40131</td>\n",
       "      <td>0.128990</td>\n",
       "      <td>...</td>\n",
       "      <td>0.27247</td>\n",
       "      <td>0.38911</td>\n",
       "      <td>0.799490</td>\n",
       "      <td>0.57753</td>\n",
       "      <td>0.86682</td>\n",
       "      <td>0.69741</td>\n",
       "      <td>0.628630</td>\n",
       "      <td>0.29479</td>\n",
       "      <td>0.54280</td>\n",
       "      <td>2.2053</td>\n",
       "    </tr>\n",
       "    <tr>\n",
       "      <th>3</th>\n",
       "      <td>0.79553</td>\n",
       "      <td>0.27854</td>\n",
       "      <td>0.22890</td>\n",
       "      <td>0.789290</td>\n",
       "      <td>0.49222</td>\n",
       "      <td>0.67084</td>\n",
       "      <td>0.769410</td>\n",
       "      <td>0.057104</td>\n",
       "      <td>0.20393</td>\n",
       "      <td>0.086936</td>\n",
       "      <td>...</td>\n",
       "      <td>0.24901</td>\n",
       "      <td>0.65976</td>\n",
       "      <td>0.943350</td>\n",
       "      <td>0.41246</td>\n",
       "      <td>0.92715</td>\n",
       "      <td>0.11015</td>\n",
       "      <td>0.101310</td>\n",
       "      <td>0.66801</td>\n",
       "      <td>0.34573</td>\n",
       "      <td>2.0400</td>\n",
       "    </tr>\n",
       "    <tr>\n",
       "      <th>4</th>\n",
       "      <td>0.65223</td>\n",
       "      <td>0.96665</td>\n",
       "      <td>0.17985</td>\n",
       "      <td>0.354060</td>\n",
       "      <td>0.84042</td>\n",
       "      <td>0.92891</td>\n",
       "      <td>0.014597</td>\n",
       "      <td>0.229530</td>\n",
       "      <td>0.43920</td>\n",
       "      <td>0.548940</td>\n",
       "      <td>...</td>\n",
       "      <td>0.93277</td>\n",
       "      <td>0.23674</td>\n",
       "      <td>0.027077</td>\n",
       "      <td>0.27111</td>\n",
       "      <td>0.23366</td>\n",
       "      <td>0.56356</td>\n",
       "      <td>0.047289</td>\n",
       "      <td>0.62792</td>\n",
       "      <td>0.97930</td>\n",
       "      <td>2.2053</td>\n",
       "    </tr>\n",
       "  </tbody>\n",
       "</table>\n",
       "<p>5 rows × 101 columns</p>\n",
       "</div>"
      ],
      "text/plain": [
       "       0        1        2         3        4        5         6         7    \\\n",
       "0  0.58351  0.37939  0.83975  0.086861  0.61192  0.39203  0.189640  0.585090   \n",
       "1  0.86622  0.45135  0.93479  0.235810  0.50488  0.49742  0.117220  0.574880   \n",
       "2  0.39142  0.91995  0.13873  0.991810  0.54367  0.98449  0.340260  0.206470   \n",
       "3  0.79553  0.27854  0.22890  0.789290  0.49222  0.67084  0.769410  0.057104   \n",
       "4  0.65223  0.96665  0.17985  0.354060  0.84042  0.92891  0.014597  0.229530   \n",
       "\n",
       "       8         9    ...      91       92        93       94       95   \\\n",
       "0  0.89494  0.393850  ...  0.51706  0.20535  0.829990  0.24995  0.31980   \n",
       "1  0.71051  0.336890  ...  0.27412  0.46065  0.655440  0.56656  0.49062   \n",
       "2  0.40131  0.128990  ...  0.27247  0.38911  0.799490  0.57753  0.86682   \n",
       "3  0.20393  0.086936  ...  0.24901  0.65976  0.943350  0.41246  0.92715   \n",
       "4  0.43920  0.548940  ...  0.93277  0.23674  0.027077  0.27111  0.23366   \n",
       "\n",
       "       96        97       98       99      100  \n",
       "0  0.19674  0.958550  0.84948  0.92369  1.9741  \n",
       "1  0.19920  0.320680  0.41419  0.83023  2.3354  \n",
       "2  0.69741  0.628630  0.29479  0.54280  2.2053  \n",
       "3  0.11015  0.101310  0.66801  0.34573  2.0400  \n",
       "4  0.56356  0.047289  0.62792  0.97930  2.2053  \n",
       "\n",
       "[5 rows x 101 columns]"
      ]
     },
     "execution_count": 4,
     "metadata": {},
     "output_type": "execute_result"
    }
   ],
   "source": [
    "df2.head()"
   ]
  },
  {
   "cell_type": "code",
   "execution_count": 5,
   "id": "32622436",
   "metadata": {},
   "outputs": [
    {
     "data": {
      "text/plain": [
       "(500, 101)"
      ]
     },
     "execution_count": 5,
     "metadata": {},
     "output_type": "execute_result"
    }
   ],
   "source": [
    "df2.shape"
   ]
  },
  {
   "cell_type": "markdown",
   "id": "5ad9d64d",
   "metadata": {},
   "source": [
    "## **Question1**"
   ]
  },
  {
   "cell_type": "markdown",
   "id": "f977224b",
   "metadata": {},
   "source": [
    "### (i)"
   ]
  },
  {
   "cell_type": "code",
   "execution_count": 8,
   "id": "b3924b07",
   "metadata": {},
   "outputs": [],
   "source": [
    "X = df1.values.astype(np.float64)"
   ]
  },
  {
   "cell_type": "code",
   "execution_count": 11,
   "id": "1d1f6434",
   "metadata": {},
   "outputs": [],
   "source": [
    "max_iter = 50\n",
    "avg_ll = np.zeros(max_iter)"
   ]
  },
  {
   "cell_type": "code",
   "execution_count": 12,
   "id": "d7384cc2",
   "metadata": {},
   "outputs": [],
   "source": [
    "for run in range(100):\n",
    "    _, _, ll = em_bernoulli_mixture(X, K=4, max_iter=50)\n",
    "    avg_ll += np.array(ll)\n",
    "\n",
    "avg_ll /= 100"
   ]
  },
  {
   "cell_type": "code",
   "execution_count": 24,
   "id": "fa04d0ca",
   "metadata": {},
   "outputs": [],
   "source": [
    "plt.style.use('./pitayasmoothie-light.mplstyle')"
   ]
  },
  {
   "cell_type": "code",
   "execution_count": 25,
   "id": "60d81611",
   "metadata": {},
   "outputs": [
    {
     "data": {
      "image/png": "[encoded data removed]",
      "text/plain": [
       "<Figure size 800x500 with 1 Axes>"
      ]
     },
     "metadata": {},
     "output_type": "display_data"
    }
   ],
   "source": [
    "plt.figure(figsize=(8, 5))\n",
    "plt.plot(range(1, max_iter + 1), avg_ll, marker='o')\n",
    "plt.title(\"Average Log-Likelihood over 100 EM Runs\")\n",
    "plt.xlabel(\"Iteration\")\n",
    "plt.ylabel(\"Average Log-Likelihood\")\n",
    "plt.grid(True)\n",
    "plt.tight_layout()\n",
    "plt.show()"
   ]
  },
  {
   "cell_type": "markdown",
   "id": "bc6c8675",
   "metadata": {},
   "source": [
    "### (ii)"
   ]
  },
  {
   "cell_type": "code",
   "execution_count": 14,
   "id": "d0f3552d",
   "metadata": {},
   "outputs": [],
   "source": [
    "data = df1.values\n",
    "N, D = data.shape\n",
    "K = 4\n",
    "max_iter = 50\n",
    "n_init = 100"
   ]
  },
  {
   "cell_type": "code",
   "execution_count": 17,
   "id": "8be2b179",
   "metadata": {},
   "outputs": [],
   "source": [
    "all_logs = np.zeros((n_init, max_iter))\n",
    "for r in range(n_init):\n",
    "    all_logs[r] = run_em_gmm(data, K, max_iter)\n",
    "\n",
    "avg_log = all_logs.mean(axis=0)"
   ]
  },
  {
   "cell_type": "code",
   "execution_count": 28,
   "id": "781cfc03",
   "metadata": {},
   "outputs": [
    {
     "data": {
      "text/plain": [
       "array([-22.94310449, -22.19004179, -22.06388339, -22.05486793,\n",
       "       -22.05441725, -22.05398736, -22.05422333, -22.05390173,\n",
       "       -22.05376354, -22.05340947, -22.05412571, -22.05362733,\n",
       "       -22.05343673, -22.05326932, -22.05346091, -22.05338626,\n",
       "       -22.05354802, -22.05323022, -22.05345628, -22.05318039,\n",
       "       -22.05338795, -22.0533161 , -22.05347334, -22.05299386,\n",
       "       -22.05336998, -22.05311138, -22.05347982, -22.05303836,\n",
       "       -22.05327944, -22.05307283, -22.05336861, -22.05304941,\n",
       "       -22.05346631, -22.05317252, -22.05346274, -22.0530335 ,\n",
       "       -22.0532879 , -22.05324028, -22.05354493, -22.05314694,\n",
       "       -22.05343734, -22.05319101, -22.05335838, -22.05319072,\n",
       "       -22.05337179, -22.05326545, -22.05354717, -22.05310796,\n",
       "       -22.0533114 , -22.05341581])"
      ]
     },
     "execution_count": 28,
     "metadata": {},
     "output_type": "execute_result"
    }
   ],
   "source": [
    "avg_log"
   ]
  },
  {
   "cell_type": "code",
   "execution_count": 26,
   "id": "e909ecfa",
   "metadata": {},
   "outputs": [
    {
     "data": {
      "image/png": "[encoded data removed]",
      "text/plain": [
       "<Figure size 700x500 with 1 Axes>"
      ]
     },
     "metadata": {},
     "output_type": "display_data"
    }
   ],
   "source": [
    "plt.figure(figsize=(7,5))\n",
    "plt.plot(avg_log, marker='o')\n",
    "plt.title(\"Gaussian Mixture Model (K=4): Average Log-Likelihood\")\n",
    "plt.xlabel(\"Iteration\")\n",
    "plt.ylabel(\"Average Log-Likelihood\")\n",
    "plt.grid(True)\n",
    "plt.show()"
   ]
  },
  {
   "cell_type": "markdown",
   "id": "163b0fa7",
   "metadata": {},
   "source": [
    "### (iii)"
   ]
  },
  {
   "cell_type": "code",
   "execution_count": 32,
   "id": "5a01a1ad",
   "metadata": {},
   "outputs": [],
   "source": [
    "clustered_df, centroids, errors = K_means(df1, K=4)"
   ]
  },
  {
   "cell_type": "code",
   "execution_count": 33,
   "id": "b9f0f942",
   "metadata": {},
   "outputs": [
    {
     "data": {
      "image/png": "[encoded data removed]",
      "text/plain": [
       "<Figure size 640x480 with 1 Axes>"
      ]
     },
     "metadata": {},
     "output_type": "display_data"
    }
   ],
   "source": [
    "plt.plot(range(1, len(errors)+1), errors, marker='o')\n",
    "plt.title('K-means Objective vs Iterations (K=4)')\n",
    "plt.xlabel('Iteration')\n",
    "plt.ylabel('Sum of Squared Errors (SSE)')\n",
    "plt.grid(True)\n",
    "plt.show()"
   ]
  },
  {
   "cell_type": "markdown",
   "id": "b14c79a1",
   "metadata": {},
   "source": [
    "## **Question2**"
   ]
  },
  {
   "cell_type": "markdown",
   "id": "bdacf796",
   "metadata": {},
   "source": [
    "The analytical or closed-form solution for the least squares weight vector, $w_{ML}$, is found by solving the normal equation for $w$:\n",
    "\n",
    "$$\n",
    "w_{ML} = (X^{T} X)^{-1} X^{T} y\n",
    "$$\n",
    "\n",
    "This solution requires the matrix $(X^{T} X)$ to be invertible. If it's not invertible (i.e., it's a singular matrix), a unique analytical solution does not exist.\n"
   ]
  },
  {
   "cell_type": "code",
   "execution_count": 50,
   "id": "7e175790",
   "metadata": {},
   "outputs": [],
   "source": [
    "X_train = df2.iloc[:, 0:100]\n",
    "Y_train = df2.iloc[:, 100]\n",
    "X_test = df2_test.iloc[:, 0:100]\n",
    "Y_test = df2_test.iloc[:, 100]"
   ]
  },
  {
   "cell_type": "markdown",
   "id": "95568070",
   "metadata": {},
   "source": [
    "**i. Obtain the least squares solution wML to the regression problem using the analytical solution.**"
   ]
  },
  {
   "cell_type": "code",
   "execution_count": 51,
   "id": "6f9916d1",
   "metadata": {},
   "outputs": [
    {
     "name": "stdout",
     "output_type": "stream",
     "text": [
      "-0.5994543894485629\n"
     ]
    }
   ],
   "source": [
    "ModelA = LinReg()\n",
    "w_A = ModelA.Fit(X_train,Y_train)\n",
    "y_hat_A = ModelA.Test(X_test)\n",
    "Rsq_A = ModelA.Eval(y_hat_A, Y_test)\n",
    "print(Rsq_A)"
   ]
  },
  {
   "cell_type": "code",
   "execution_count": 65,
   "id": "cd94ccf5",
   "metadata": {},
   "outputs": [
    {
     "name": "stdout",
     "output_type": "stream",
     "text": [
      "Analytical Solution [[ 6.30066761e-02]\n",
      " [ 4.96074150e-01]\n",
      " [ 1.75885938e-01]\n",
      " [ 6.78464160e-03]\n",
      " [ 4.32335122e-01]\n",
      " [ 1.62117046e-01]\n",
      " [ 6.00685233e-01]\n",
      " [ 8.09165471e-01]\n",
      " [ 2.63193784e-01]\n",
      " [ 8.52320416e-01]\n",
      " [ 5.75057443e-01]\n",
      " [ 1.89328561e-02]\n",
      " [ 1.13241852e-02]\n",
      " [ 7.69922545e-03]\n",
      " [-1.79649890e-02]\n",
      " [-1.80248303e-02]\n",
      " [-1.13999078e-02]\n",
      " [-1.07471951e-02]\n",
      " [-7.85315642e-03]\n",
      " [ 2.08456471e-02]\n",
      " [-3.06273554e-03]\n",
      " [ 8.59497895e-03]\n",
      " [ 1.56096199e-03]\n",
      " [-1.20806803e-02]\n",
      " [ 9.49876674e-03]\n",
      " [-2.18509292e-03]\n",
      " [-2.37453577e-02]\n",
      " [ 4.82366091e-03]\n",
      " [ 2.52790344e-02]\n",
      " [ 4.91158380e-03]\n",
      " [-1.71755378e-03]\n",
      " [ 1.48157638e-02]\n",
      " [-4.81565431e-03]\n",
      " [-5.56721769e-03]\n",
      " [-2.84843528e-02]\n",
      " [-1.83672132e-02]\n",
      " [ 2.89674339e-02]\n",
      " [ 1.75891585e-02]\n",
      " [-1.30347867e-02]\n",
      " [-3.90397314e-02]\n",
      " [-6.89152700e-03]\n",
      " [-1.24666602e-02]\n",
      " [-5.25430561e-03]\n",
      " [-2.74843132e-02]\n",
      " [-8.96584229e-03]\n",
      " [ 1.10955671e-02]\n",
      " [-1.53878016e-03]\n",
      " [ 1.58715724e-02]\n",
      " [ 1.50884010e-03]\n",
      " [-1.51583410e-02]\n",
      " [ 6.83514410e-04]\n",
      " [-1.72126206e-02]\n",
      " [ 1.57839837e-02]\n",
      " [ 1.41676345e-02]\n",
      " [-3.95704280e-03]\n",
      " [ 1.47111963e-02]\n",
      " [-5.37656162e-03]\n",
      " [ 2.09059347e-03]\n",
      " [ 2.75985543e-04]\n",
      " [ 7.01009176e-03]\n",
      " [ 3.93739926e-03]\n",
      " [-1.64243395e-02]\n",
      " [ 5.73044668e-03]\n",
      " [-4.43376558e-03]\n",
      " [-2.80835126e-02]\n",
      " [-8.77571240e-04]\n",
      " [ 2.04663514e-02]\n",
      " [ 3.19253241e-02]\n",
      " [-1.03416822e-02]\n",
      " [-6.78254439e-03]\n",
      " [-2.63200526e-02]\n",
      " [ 1.08907691e-02]\n",
      " [-3.15751057e-02]\n",
      " [ 1.36997436e-02]\n",
      " [-4.75100755e-03]\n",
      " [ 1.86051364e-02]\n",
      " [ 1.34587435e-02]\n",
      " [ 1.68543018e-02]\n",
      " [-2.39101108e-02]\n",
      " [ 1.90573106e-03]\n",
      " [ 1.32792025e-02]\n",
      " [ 9.83349037e-03]\n",
      " [ 1.01274737e-02]\n",
      " [-1.50105075e-02]\n",
      " [ 2.80447427e-02]\n",
      " [ 9.25642608e-03]\n",
      " [-1.61094112e-02]\n",
      " [-9.04100160e-03]\n",
      " [ 1.24007117e-02]\n",
      " [ 3.00451463e-02]\n",
      " [-2.16543518e-02]\n",
      " [-2.52743303e-02]\n",
      " [-1.15862356e-02]\n",
      " [-1.59797859e-02]\n",
      " [ 3.71240859e-03]\n",
      " [ 2.53711906e-02]\n",
      " [-5.54295570e-03]\n",
      " [-7.64725800e-03]\n",
      " [ 6.82437728e-03]\n",
      " [-8.11018203e-03]\n",
      " [-4.48484981e-03]]\n"
     ]
    }
   ],
   "source": [
    "print(f\"Analytical Solution {w_A}\")"
   ]
  },
  {
   "cell_type": "code",
   "execution_count": null,
   "id": "bdd4220f",
   "metadata": {},
   "outputs": [],
   "source": [
    "X_train_std = (X_train - X_train.mean()) / X_train.std()\n",
    "X_test_std = (X_test - X_train.mean()) / X_train.std()"
   ]
  },
  {
   "cell_type": "markdown",
   "id": "f79a191e",
   "metadata": {},
   "source": [
    "**ii. Code the gradient descent algorithm with suitable step size to solve the least squares algorithms and plot ∥wt − wML∥2 as a function of t. What do you observe?**"
   ]
  },
  {
   "cell_type": "code",
   "execution_count": 68,
   "id": "c24ad041",
   "metadata": {},
   "outputs": [
    {
     "name": "stdout",
     "output_type": "stream",
     "text": [
      "-0.5859338588117458\n"
     ]
    }
   ],
   "source": [
    "ModelB = LinReg()\n",
    "w_B, res_B = ModelB.Fit(X_train, Y_train, alpha=0.001, epoch=100000, method = 'Batch_GD', capture_cost = True)\n",
    "y_hat_B = ModelB.Test(X_test)\n",
    "Rsq_B = ModelB.Eval(y_hat_B, Y_test)\n",
    "print(Rsq_B)"
   ]
  },
  {
   "cell_type": "code",
   "execution_count": 69,
   "id": "dabc9cce",
   "metadata": {},
   "outputs": [
    {
     "data": {
      "text/plain": [
       "np.float64(1.6163923413240338)"
      ]
     },
     "execution_count": 69,
     "metadata": {},
     "output_type": "execute_result"
    }
   ],
   "source": [
    "np.linalg.norm(w_B)"
   ]
  },
  {
   "cell_type": "code",
   "execution_count": 70,
   "id": "34a3491d",
   "metadata": {},
   "outputs": [],
   "source": [
    "normB = []\n",
    "for wi in res_B:\n",
    "    normB.append(np.linalg.norm(w_B - wi))"
   ]
  },
  {
   "cell_type": "code",
   "execution_count": 71,
   "id": "bb6ba264",
   "metadata": {},
   "outputs": [],
   "source": [
    "plt.style.use('./pitayasmoothie-light.mplstyle')"
   ]
  },
  {
   "cell_type": "code",
   "execution_count": 72,
   "id": "1ff43ced",
   "metadata": {},
   "outputs": [
    {
     "data": {
      "image/png": "[encoded data removed]",
      "text/plain": [
       "<Figure size 640x480 with 1 Axes>"
      ]
     },
     "metadata": {},
     "output_type": "display_data"
    }
   ],
   "source": [
    "plt.plot(normB)\n",
    "plt.xlabel(\"Iteration (t)\")\n",
    "plt.ylabel(\"Norm\")\n",
    "plt.title(\"Convergence of Gradient Descent towards Analytical Solution\")\n",
    "plt.grid(True)\n",
    "plt.show()"
   ]
  },
  {
   "cell_type": "markdown",
   "id": "09fd359f",
   "metadata": {},
   "source": [
    "**iii. Code the stochastic gradient descent algorithm using batch size of 100 and plot ∥wt −wML∥2 as a function of t. What are your observations?**"
   ]
  },
  {
   "cell_type": "code",
   "execution_count": 73,
   "id": "1cc7eb8a",
   "metadata": {},
   "outputs": [
    {
     "name": "stdout",
     "output_type": "stream",
     "text": [
      "-0.5995206363746262\n"
     ]
    }
   ],
   "source": [
    "ModelC = LinReg()\n",
    "w_C, res_C = ModelC.Fit(X_train, Y_train, alpha=0.001, epoch=100000, method = 'MiniBatch_GD', capture_cost = True, batch_size=100)\n",
    "y_hat_C = ModelC.Test(X_test)\n",
    "Rsq_C = ModelC.Eval(y_hat_C, Y_test)\n",
    "print(Rsq_C)"
   ]
  },
  {
   "cell_type": "code",
   "execution_count": 74,
   "id": "ca6fb9d5",
   "metadata": {},
   "outputs": [],
   "source": [
    "normC = []\n",
    "for wi in res_C:\n",
    "    normC.append(np.linalg.norm(w_C - wi))"
   ]
  },
  {
   "cell_type": "code",
   "execution_count": 75,
   "id": "56200923",
   "metadata": {},
   "outputs": [],
   "source": [
    "plt.style.use('./pitayasmoothie-light.mplstyle')"
   ]
  },
  {
   "cell_type": "code",
   "execution_count": 76,
   "id": "b02bc781",
   "metadata": {},
   "outputs": [
    {
     "data": {
      "image/png": "[encoded data removed]",
      "text/plain": [
       "<Figure size 640x480 with 1 Axes>"
      ]
     },
     "metadata": {},
     "output_type": "display_data"
    }
   ],
   "source": [
    "plt.plot(normC)\n",
    "plt.xlabel(\"Iteration (t)\")\n",
    "plt.ylabel(\"Norm\")\n",
    "plt.title(\"Convergence of Mini Batch Gradient Descent towards Analytical Solution\")\n",
    "plt.grid(True)\n",
    "plt.show()"
   ]
  },
  {
   "cell_type": "code",
   "execution_count": 80,
   "id": "e0f77cec",
   "metadata": {},
   "outputs": [],
   "source": [
    "X_train = df2_train.iloc[:,:-1].to_numpy()\n",
    "y_train = df2_train.iloc[:,-1].to_numpy().reshape(-1,1)\n",
    "X_test = df2_test.iloc[:,:-1].to_numpy()\n",
    "y_test = df2_test.iloc[:,-1].to_numpy().reshape(-1,1)"
   ]
  },
  {
   "cell_type": "code",
   "execution_count": 81,
   "id": "6eb64e7f",
   "metadata": {},
   "outputs": [],
   "source": [
    "\n",
    "X_train = np.hstack((np.ones((X_train.shape[0],1)), X_train))\n",
    "X_test = np.hstack((np.ones((X_test.shape[0],1)), X_test))"
   ]
  },
  {
   "cell_type": "code",
   "execution_count": 101,
   "id": "135cb681",
   "metadata": {},
   "outputs": [],
   "source": [
    "\n",
    "lambdas = [ 0, 0.001, 0.01, 0.1, 1, 10, 100]\n",
    "errors = cross_validate(X_train, y_train, lambdas, k=5, alpha=0.001, epochs=5000)"
   ]
  },
  {
   "cell_type": "code",
   "execution_count": 102,
   "id": "8dd76bf3",
   "metadata": {},
   "outputs": [
    {
     "name": "stdout",
     "output_type": "stream",
     "text": [
      "Best λ: 0\n",
      "Test MSE (Gradient Descent Ridge): 0.33454651416550424\n",
      "Test MSE (Closed-form Ridge): 0.41081505980955435\n"
     ]
    }
   ],
   "source": [
    "\n",
    "best_lambda = lambdas[np.argmin(errors)]\n",
    "print(\"Best λ:\", best_lambda)\n",
    "\n",
    "wR = ridge_gd(X_train, y_train, alpha=0.001, lambda_=best_lambda, epochs=20000)\n",
    "\n",
    "wML = np.linalg.inv(X_train.T @ X_train + best_lambda * np.eye(X_train.shape[1])) @ X_train.T @ y_train\n",
    "\n",
    "mse_R = mse(y_test, X_test @ wR)\n",
    "mse_ML = mse(y_test, X_test @ wML)\n",
    "\n",
    "print(\"Test MSE (Gradient Descent Ridge):\", mse_R)\n",
    "print(\"Test MSE (Closed-form Ridge):\", mse_ML)"
   ]
  },
  {
   "cell_type": "code",
   "execution_count": 111,
   "id": "374a0531",
   "metadata": {},
   "outputs": [
    {
     "data": {
      "text/plain": [
       "array([[0.03474098],\n",
       "       [0.01850825],\n",
       "       [0.01794001],\n",
       "       [0.01798962],\n",
       "       [0.01811715],\n",
       "       [0.01730031],\n",
       "       [0.01832977],\n",
       "       [0.01826198],\n",
       "       [0.01801609],\n",
       "       [0.01856215],\n",
       "       [0.01850377],\n",
       "       [0.01740122],\n",
       "       [0.01764783],\n",
       "       [0.01812797],\n",
       "       [0.01799996],\n",
       "       [0.01737198],\n",
       "       [0.01751759],\n",
       "       [0.01733398],\n",
       "       [0.0169111 ],\n",
       "       [0.01704708],\n",
       "       [0.01679189],\n",
       "       [0.01761417],\n",
       "       [0.01723796],\n",
       "       [0.01701903],\n",
       "       [0.01769534],\n",
       "       [0.01807395],\n",
       "       [0.01708764],\n",
       "       [0.01668106],\n",
       "       [0.01690671],\n",
       "       [0.01699286],\n",
       "       [0.01691099],\n",
       "       [0.0170265 ],\n",
       "       [0.01720168],\n",
       "       [0.01713152],\n",
       "       [0.01743717],\n",
       "       [0.01799991],\n",
       "       [0.01785402],\n",
       "       [0.01757469],\n",
       "       [0.01819185],\n",
       "       [0.01723602],\n",
       "       [0.01749404],\n",
       "       [0.0169982 ],\n",
       "       [0.01760329],\n",
       "       [0.0171941 ],\n",
       "       [0.01714072],\n",
       "       [0.017195  ],\n",
       "       [0.01638685],\n",
       "       [0.01696018],\n",
       "       [0.01740485],\n",
       "       [0.01658457],\n",
       "       [0.01698088],\n",
       "       [0.01788712],\n",
       "       [0.01722644],\n",
       "       [0.01779237],\n",
       "       [0.01721184],\n",
       "       [0.01778392],\n",
       "       [0.01639592],\n",
       "       [0.0180161 ],\n",
       "       [0.01771304],\n",
       "       [0.01753682],\n",
       "       [0.01641836],\n",
       "       [0.01780276],\n",
       "       [0.01652966],\n",
       "       [0.01765179],\n",
       "       [0.01729382],\n",
       "       [0.01814671],\n",
       "       [0.01760118],\n",
       "       [0.01702381],\n",
       "       [0.01752121],\n",
       "       [0.01723104],\n",
       "       [0.01756319],\n",
       "       [0.01722617],\n",
       "       [0.0173719 ],\n",
       "       [0.01705707],\n",
       "       [0.01769154],\n",
       "       [0.01762128],\n",
       "       [0.017011  ],\n",
       "       [0.01809304],\n",
       "       [0.01728718],\n",
       "       [0.01637167],\n",
       "       [0.01693676],\n",
       "       [0.01774974],\n",
       "       [0.01756392],\n",
       "       [0.01687676],\n",
       "       [0.01712602],\n",
       "       [0.01664193],\n",
       "       [0.0167851 ],\n",
       "       [0.01730977],\n",
       "       [0.01728551],\n",
       "       [0.01739088],\n",
       "       [0.0180875 ],\n",
       "       [0.01662051],\n",
       "       [0.01717596],\n",
       "       [0.01773212],\n",
       "       [0.01734823],\n",
       "       [0.0173751 ],\n",
       "       [0.01719708],\n",
       "       [0.01727675],\n",
       "       [0.01805221],\n",
       "       [0.01816016],\n",
       "       [0.01778941]])"
      ]
     },
     "execution_count": 111,
     "metadata": {},
     "output_type": "execute_result"
    }
   ],
   "source": [
    "wR"
   ]
  },
  {
   "cell_type": "code",
   "execution_count": 103,
   "id": "a0d9e69e",
   "metadata": {},
   "outputs": [
    {
     "data": {
      "image/png": "[encoded data removed]",
      "text/plain": [
       "<Figure size 640x480 with 1 Axes>"
      ]
     },
     "metadata": {},
     "output_type": "display_data"
    }
   ],
   "source": [
    "plt.plot(lambdas, errors, marker='o')\n",
    "plt.xscale('log')\n",
    "plt.xlabel('λ (log scale)')\n",
    "plt.ylabel('Validation MSE')\n",
    "plt.title('Cross-Validation Error vs λ')\n",
    "plt.show()"
   ]
  }
 ],
 "metadata": {
  "kernelspec": {
   "display_name": "myenv",
   "language": "python",
   "name": "python3"
  },
  "language_info": {
   "codemirror_mode": {
    "name": "ipython",
    "version": 3
   },
   "file_extension": ".py",
   "mimetype": "text/x-python",
   "name": "python",
   "nbconvert_exporter": "python",
   "pygments_lexer": "ipython3",
   "version": "3.13.5"
  }
 },
 "nbformat": 4,
 "nbformat_minor": 5
}
